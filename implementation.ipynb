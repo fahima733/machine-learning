{
  "nbformat": 4,
  "nbformat_minor": 0,
  "metadata": {
    "colab": {
      "provenance": []
    },
    "kernelspec": {
      "name": "python3",
      "display_name": "Python 3"
    },
    "language_info": {
      "name": "python"
    }
  },
  "cells": [
    {
      "cell_type": "code",
      "execution_count": null,
      "metadata": {
        "id": "NJhqe99cJo0i",
        "outputId": "eb6084ff-8947-4c74-cc46-b8afbc60de2b",
        "colab": {
          "base_uri": "https://localhost:8080/"
        }
      },
      "outputs": [
        {
          "output_type": "stream",
          "name": "stdout",
          "text": [
            "[0]\n"
          ]
        }
      ],
      "source": [
        "from sklearn import tree\n",
        "features=[[140,1],[180,0],[150,0],[170,0]]\n",
        "labels=[0,0,1,1]\n",
        "clf=tree.DecisionTreeClassifier()\n",
        "clf=clf.fit(features,labels)\n",
        "output=clf.predict([[180,0 ]])\n",
        "print(output)"
      ]
    }
  ]
}